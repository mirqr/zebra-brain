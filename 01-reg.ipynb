{
 "cells": [
  {
   "cell_type": "code",
   "execution_count": 2,
   "metadata": {},
   "outputs": [],
   "source": [
    "%load_ext autoreload\n",
    "%autoreload 2"
   ]
  },
  {
   "cell_type": "code",
   "execution_count": 3,
   "metadata": {},
   "outputs": [],
   "source": [
    "import os\n",
    "import re\n",
    "import glob\n",
    "\n",
    "from my_utils import *"
   ]
  },
  {
   "cell_type": "code",
   "execution_count": 4,
   "metadata": {},
   "outputs": [],
   "source": [
    "os.environ[\"FSLDIR\"] = os.environ[\"CONDA_PREFIX\"]\n",
    "os.environ[\"FSLOUTPUTTYPE\"] = \"NIFTI_GZ\"  #  default output type for fslmaths \n",
    "\n",
    "# fslmaths wants this. It sets some variables in the environment\n",
    "#export FSLDIR=$CONDA_PREFIX\n",
    "#source $FSLDIR/etc/fslconf/fsl.sh # check this fie\n",
    "\n",
    "# in %%bash magic cell does not work. Creates a new temporary \n",
    "# Bash subprocess for that cell.  the subprocess terminates, and any export statements are lost.\n",
    "# we can do it in conda environment at activation time \n",
    "# for now we just do (those are inherited by the subprocesses)\n"
   ]
  },
  {
   "cell_type": "code",
   "execution_count": 5,
   "metadata": {},
   "outputs": [],
   "source": [
    "# Auxiliary Parameter files used for registration\n",
    "non_param_file = \"aux-01-reg/nonlinearRegistration.param\"\n",
    "standard_reference = \"aux-01-reg/standard_ref.nii.gz\"\n",
    "STANDARD_RSP_REFERENCE = \"aux-01-reg/standard_ref_rsp.nii.gz\"\n",
    "DIS_ATLAS_MASK_FILE = \"aux-01-reg/dis_atlas_mask.nii.gz\"\n",
    "\n",
    "# OUTPUT FOLDERS The authors first delete them before creation\n",
    "os.makedirs(\"xform\", exist_ok=True)\n",
    "os.makedirs(\"registered\", exist_ok=True)\n",
    "os.makedirs(\"divided/C0divC1\", exist_ok=True)\n",
    "os.makedirs(\"divided/C2divC1\", exist_ok=True) # only used if C2 is present\n",
    "os.makedirs(\"jacobian\", exist_ok=True)\n",
    "\n",
    "\n",
    "# logs directory (we dont need)\n",
    "#os.makedirs(\"scripts\", exist_ok=True) \n",
    "#os.makedirs(\"logs\", exist_ok=True)\n"
   ]
  },
  {
   "cell_type": "code",
   "execution_count": 6,
   "metadata": {},
   "outputs": [],
   "source": [
    "# Preprocessing\n",
    "input_pattern = \"nrrd/*.nrrd\" # all nrrd files in the nrrd/ folder\n",
    "for file in glob.glob(input_pattern):\n",
    "    #print(f\"Processing file: {file} to {file.replace('.nrrd', '__optfixed.nii.gz')}\")\n",
    "    out = file.replace('.nrrd', '__optfixed.nii.gz')\n",
    "    out = out.replace('nrrd/', 'optfixed/')\n",
    "    #print(f'Processing {file} --> {out}')\n",
    "    command = f\"biswebnode preprocessoptical --ras --biascorrect false --mask false --normalize false --resample --factor 1 --sigma 1 -i {file} --output {out}\"\n",
    "    #print(command)\n",
    "    #run_command(command)\n"
   ]
  },
  {
   "cell_type": "code",
   "execution_count": 7,
   "metadata": {},
   "outputs": [
    {
     "name": "stdout",
     "output_type": "stream",
     "text": [
      "7 Files found for pattern: optfixed/*_wt_*C0__optfixed.nii.gz\n",
      "7 Files found for pattern: optfixed/*_wt_*C1__optfixed.nii.gz\n",
      "9 Files found for pattern: optfixed/*_het_*C0__optfixed.nii.gz\n",
      "9 Files found for pattern: optfixed/*_het_*C1__optfixed.nii.gz\n",
      "10 Files found for pattern: optfixed/*_hom_*C0__optfixed.nii.gz\n",
      "10 Files found for pattern: optfixed/*_hom_*C1__optfixed.nii.gz\n"
     ]
    }
   ],
   "source": [
    "\n",
    "# CHECK your files in optfixed directory (block if some files are missing)\n",
    "# * is a wildcard for any string\n",
    "geno_types = [\"wt\", \"het\", \"hom\"]\n",
    "for geno_type in geno_types:\n",
    "    check_files(f\"optfixed/*_{geno_type}_*C0__optfixed.nii.gz\", list = False) # list = True to see the files\n",
    "    check_files(f\"optfixed/*_{geno_type}_*C1__optfixed.nii.gz\", list = False)"
   ]
  },
  {
   "cell_type": "code",
   "execution_count": 8,
   "metadata": {},
   "outputs": [
    {
     "name": "stdout",
     "output_type": "stream",
     "text": [
      "Skipping dyrk1a_exp1_het_1 as bisxform file already exists\n",
      "Skipping dyrk1a_exp1_het_2 as bisxform file already exists\n",
      "Skipping dyrk1a_exp1_het_3 as bisxform file already exists\n",
      "Skipping dyrk1a_exp1_het_4 as bisxform file already exists\n",
      "Skipping dyrk1a_exp1_het_5 as bisxform file already exists\n",
      "Skipping dyrk1a_exp1_het_6 as bisxform file already exists\n",
      "Skipping dyrk1a_exp1_het_7 as bisxform file already exists\n",
      "Skipping dyrk1a_exp1_het_8 as bisxform file already exists\n",
      "Skipping dyrk1a_exp1_het_9 as bisxform file already exists\n",
      "Skipping dyrk1a_exp1_hom_10 as bisxform file already exists\n",
      "Skipping dyrk1a_exp1_hom_1 as bisxform file already exists\n",
      "Skipping dyrk1a_exp1_hom_2 as bisxform file already exists\n",
      "Skipping dyrk1a_exp1_hom_3 as bisxform file already exists\n",
      "Skipping dyrk1a_exp1_hom_4 as bisxform file already exists\n",
      "Skipping dyrk1a_exp1_hom_5 as bisxform file already exists\n",
      "Skipping dyrk1a_exp1_hom_6 as bisxform file already exists\n",
      "Skipping dyrk1a_exp1_hom_7 as bisxform file already exists\n",
      "Skipping dyrk1a_exp1_hom_8 as bisxform file already exists\n",
      "Skipping dyrk1a_exp1_hom_9 as bisxform file already exists\n",
      "Skipping dyrk1a_exp1_wt_1 as bisxform file already exists\n",
      "Skipping dyrk1a_exp1_wt_2 as bisxform file already exists\n",
      "Skipping dyrk1a_exp1_wt_3 as bisxform file already exists\n",
      "Skipping dyrk1a_exp1_wt_4 as bisxform file already exists\n",
      "Skipping dyrk1a_exp1_wt_5 as bisxform file already exists\n",
      "Skipping dyrk1a_exp1_wt_6 as bisxform file already exists\n",
      "Skipping dyrk1a_exp1_wt_7 as bisxform file already exists\n"
     ]
    }
   ],
   "source": [
    "# HERE THE AUTOHORs USE SLURM (a job for each file)\n",
    "# biswebnode seems to run in single thread. We can run in parallel using python. Each file is independent\n",
    "\n",
    "# Store commands to run in parallel\n",
    "ls_com1 = []  # Nonlinear Registration\n",
    "ls_com2 = []  # Reslicing \n",
    "ls_com3 = []  # Reslicing \n",
    "ls_com4 = []  # Dividing\n",
    "\n",
    "# We just use C0 to take all file names\n",
    "input_pattern = f\"optfixed/*C0__optfixed.nii.gz\" \n",
    "for file_path in sorted(glob.glob(input_pattern)):\n",
    "    # Extract the file name without path and extension\n",
    "    # example:  optfixed/dyrk1a_exp1_het_8_C0__optfixed.nii.gz --> dyrk1a_exp1_het_8\n",
    "    file_base = os.path.basename(file_path)\n",
    "    file = file_base.replace(\"_C0__optfixed.nii.gz\", \"\")\n",
    "    #print(file_path + \" --> \" + file)\n",
    "\n",
    "    #print(f\"Processing file: {file}\")\n",
    "    input_c0_file = f\"optfixed/{file}_C0__optfixed.nii.gz\"\n",
    "    input_c1_file = f\"optfixed/{file}_C1__optfixed.nii.gz\"\n",
    "    input_c2_file = f\"optfixed/{file}_C2__optfixed.nii.gz\"\n",
    "\n",
    "    registered_c0_file = f\"registered/r_{file}_C0__optfixed.nii.gz\"\n",
    "    registered_c1_file = f\"registered/r_{file}_C1__optfixed.nii.gz\"\n",
    "    registered_c2_file = f\"registered/r_{file}_C2__optfixed.nii.gz\"\n",
    "\n",
    "    bisxform_file = f\"xform/standard_ref__{file}_C1__optfixed__nlr.bisxform\" \n",
    "\n",
    "    #if bisxform_file already exists, skip to next file\n",
    "    if os.path.isfile(bisxform_file):\n",
    "        print(f\"Skipping {file} as bisxform file already exists\")\n",
    "        continue\n",
    "    else:\n",
    "        print(f\"Processing {file}\")\n",
    "\n",
    "    # Creates registered (C0, C1) and bisxform files\n",
    "    command = f\"biswebnode nonlinearregistration --paramfile {non_param_file} -r {standard_reference} -t {input_c1_file} -o {bisxform_file}\" # THIS HEAVY - ~13H per files\n",
    "    ls_com1.append(command)\n",
    "    #run_command(command) # Here to run each command in sequence\n",
    "\n",
    "    command = f\"biswebnode resliceImage -r {standard_reference} -i {input_c1_file} -x {bisxform_file} -o {registered_c1_file}\"\n",
    "    ls_com2.append(command)\n",
    "    #run_command(command)\n",
    "\n",
    "    command = f\"biswebnode resliceImage -r {registered_c1_file} -i {input_c0_file} -x {bisxform_file} -o {registered_c0_file}\"\n",
    "    ls_com3.append(command)\n",
    "    #run_command(command)\n",
    "\n",
    "    if os.path.isfile(input_c2_file):\n",
    "        command = f\"biswebnode resliceImage -r {registered_c1_file} -i {input_c2_file} -x {bisxform_file} -o {registered_c2_file}\"\n",
    "        ls_com3.append(command)\n",
    "        #run_command(command)\n",
    "\n",
    "\n",
    "    # Creates C0divC1 divided files\n",
    "    divided_c0_file = f\"divided/C0divC1/r_{file}_C0divC1.nii.gz\"\n",
    "    command = f\"fslmaths {registered_c0_file} -div {registered_c1_file} {divided_c0_file}\"\n",
    "    ls_com4.append(command)\n",
    "    #run_command(command)\n",
    "\n",
    "    if os.path.isfile(input_c2_file):\n",
    "        # Creates C2divC1 divided files\n",
    "        divided_c2_file = f\"divided/C2divC1/r_{file}_C2divC1.nii.gz\"\n",
    "        command = f\"fslmaths {registered_c2_file} -div {registered_c1_file} {divided_c2_file}\"\n",
    "        ls_com4.append(command)\n",
    "        #run_command(command)\n",
    "\n",
    "# Run commands in parallel\n",
    "#run_commands_parallel(ls_com1) # first all the registrations have to be done\n",
    "#run_commands_parallel(ls_com2)\n",
    "#run_commands_parallel(ls_com3)\n",
    "#run_commands_parallel(ls_com4)\n",
    "    \n",
    "    "
   ]
  },
  {
   "cell_type": "code",
   "execution_count": 10,
   "metadata": {},
   "outputs": [
    {
     "name": "stdout",
     "output_type": "stream",
     "text": [
      "Skipping dyrk1a_exp1_het_1 as mask_file already exist\n",
      "Skipping dyrk1a_exp1_het_2 as mask_file already exist\n",
      "Skipping dyrk1a_exp1_het_3 as mask_file already exist\n",
      "Skipping dyrk1a_exp1_het_4 as mask_file already exist\n",
      "Skipping dyrk1a_exp1_het_5 as mask_file already exist\n",
      "Skipping dyrk1a_exp1_het_6 as mask_file already exist\n",
      "Skipping dyrk1a_exp1_het_7 as mask_file already exist\n",
      "Skipping dyrk1a_exp1_het_8 as mask_file already exist\n",
      "Skipping dyrk1a_exp1_het_9 as mask_file already exist\n",
      "Skipping dyrk1a_exp1_hom_10 as mask_file already exist\n",
      "Skipping dyrk1a_exp1_hom_1 as mask_file already exist\n",
      "Skipping dyrk1a_exp1_hom_2 as mask_file already exist\n",
      "Skipping dyrk1a_exp1_hom_3 as mask_file already exist\n",
      "Skipping dyrk1a_exp1_hom_4 as mask_file already exist\n",
      "Skipping dyrk1a_exp1_hom_5 as mask_file already exist\n",
      "Skipping dyrk1a_exp1_hom_6 as mask_file already exist\n",
      "Skipping dyrk1a_exp1_hom_7 as mask_file already exist\n",
      "Skipping dyrk1a_exp1_hom_8 as mask_file already exist\n",
      "Skipping dyrk1a_exp1_hom_9 as mask_file already exist\n",
      "Skipping dyrk1a_exp1_wt_1 as mask_file already exist\n",
      "Skipping dyrk1a_exp1_wt_2 as mask_file already exist\n",
      "Skipping dyrk1a_exp1_wt_3 as mask_file already exist\n",
      "Skipping dyrk1a_exp1_wt_4 as mask_file already exist\n",
      "Skipping dyrk1a_exp1_wt_5 as mask_file already exist\n",
      "Skipping dyrk1a_exp1_wt_6 as mask_file already exist\n",
      "Skipping dyrk1a_exp1_wt_7 as mask_file already exist\n"
     ]
    }
   ],
   "source": [
    "ls_com1 = [] # Jacobian\n",
    "ls_com2 = [] # Mask Jacobian\n",
    "\n",
    "for file_path in sorted(glob.glob(input_pattern)):\n",
    "    file_base = os.path.basename(file_path)\n",
    "    file = file_base.replace(\"_C0__optfixed.nii.gz\", \"\")\n",
    "\n",
    "    bisxform_file = f\"xform/standard_ref__{file}_C1__optfixed__nlr.bisxform\" # definito sopra\n",
    "\n",
    "    # Creates jacobian files (ja_ and mask_ja) for C1 using bisxform files\n",
    "    jacobian_file = f\"jacobian/ja_{file}.nii.gz\"\n",
    "    mask_file = f\"jacobian/mask_ja_{file}.nii.gz\"\n",
    "    \n",
    "\n",
    "    if os.path.isfile(mask_file):\n",
    "        print(f\"Skipping {file} as mask_file already exist\")\n",
    "        continue\n",
    "    else:\n",
    "        print(f\"Processing {file}\")\n",
    "\n",
    "    command1 = f\"biswebnode jacobianimage -x {bisxform_file} -i {STANDARD_RSP_REFERENCE} -o {jacobian_file}\"\n",
    "    command2 = f\"biswebnode maskimage -i {jacobian_file} -m {DIS_ATLAS_MASK_FILE} -o {mask_file}\" \n",
    "    #run_command(command1)\n",
    "    #run_command(command2)\n",
    "    ls_com1.append(command1)\n",
    "    ls_com2.append(command2)\n",
    "\n",
    "run_commands_parallel(ls_com1)\n",
    "run_commands_parallel(ls_com2)\n"
   ]
  },
  {
   "cell_type": "raw",
   "metadata": {},
   "source": [
    "Checkpoint: \n",
    "Confirm that reg.sh generated the following subfolders containing the expected files: \n",
    "(i) xform: files containing the mapping calculations for the non-linear registration ofeach image (.bisxform); \n",
    "(ii) registered: registered versions of each channel to the standard reference for each image (r_*_C0__optfixed.nii.gz, r_*_C1__optfixed.nii.gz); \n",
    "(iii) divided: normalized files (r_*C0divC1.nii.gz, r_*C2divC1.nii.gz); \n",
    "(iv) jacobian: the Jacobian files (ja_*.nii.gz, mask_ja*.nii.gz); \n",
    "(v) logs. The logs subfolder provides a record of the jobs run and any errors encountered. "
   ]
  }
 ],
 "metadata": {
  "kernelspec": {
   "display_name": "zebra_env",
   "language": "python",
   "name": "python3"
  },
  "language_info": {
   "codemirror_mode": {
    "name": "ipython",
    "version": 3
   },
   "file_extension": ".py",
   "mimetype": "text/x-python",
   "name": "python",
   "nbconvert_exporter": "python",
   "pygments_lexer": "ipython3",
   "version": "3.10.14"
  }
 },
 "nbformat": 4,
 "nbformat_minor": 2
}
